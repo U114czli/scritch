{
 "cells": [
  {
   "cell_type": "code",
   "execution_count": 45,
   "id": "10cc17fc-7342-4825-8a66-48b79183ba2e",
   "metadata": {},
   "outputs": [],
   "source": [
    "import tensorflow as tf"
   ]
  },
  {
   "cell_type": "code",
   "execution_count": 55,
   "id": "1679802d-160b-45d3-9f66-568d24d4dbec",
   "metadata": {},
   "outputs": [],
   "source": [
    "import numpy as np\n",
    "\n",
    "arr = np.loadtxt(\"data1.csv\", delimiter=\",\", dtype=np.float32)"
   ]
  },
  {
   "cell_type": "code",
   "execution_count": 56,
   "id": "722676c4-af3d-408d-bad7-5719bae25879",
   "metadata": {},
   "outputs": [],
   "source": [
    "z_data, label = arr[:, 2], arr[:, 3]"
   ]
  },
  {
   "cell_type": "code",
   "execution_count": 57,
   "id": "49bbdf2a-9929-4f7f-bc80-91560f0068b3",
   "metadata": {},
   "outputs": [],
   "source": [
    "window = lambda a, w, o: np.lib.stride_tricks.as_strided(a, strides = a.strides * 2, shape = (a.size - w + 1, w))[::o]\n",
    "sampling_period = 5e-3\n",
    "window_size, sliding_size = int(1/sampling_period), int(0.1/sampling_period)"
   ]
  },
  {
   "cell_type": "code",
   "execution_count": 83,
   "id": "c77d00bf-31f2-4804-9054-52d3a2f207fb",
   "metadata": {},
   "outputs": [
    {
     "name": "stdout",
     "output_type": "stream",
     "text": [
      "(2112, 200) (2112,)\n"
     ]
    }
   ],
   "source": [
    "inp_feat = window(z_data, window_size, sliding_size)\n",
    "out_feat = np.sum(\n",
    "    window(label, window_size, sliding_size),\n",
    "    axis=1) > sliding_size//2\n",
    "\n",
    "print(inp_feat.shape, out_feat.shape)"
   ]
  },
  {
   "cell_type": "code",
   "execution_count": 84,
   "id": "fe5bbba4-3572-44f0-842e-2410a055d1bc",
   "metadata": {},
   "outputs": [
    {
     "name": "stdout",
     "output_type": "stream",
     "text": [
      "2112\n"
     ]
    }
   ],
   "source": [
    "dataset = tf.data.Dataset.from_tensor_slices((inp_feat, out_feat))\n",
    "print(len(dataset))"
   ]
  },
  {
   "cell_type": "code",
   "execution_count": 85,
   "id": "4b4ff6ce-d5d3-4c8e-9a64-af6e5f931011",
   "metadata": {},
   "outputs": [],
   "source": [
    "batch_size = 64\n",
    "num_samples = 100\n",
    "dataset = dataset.shuffle(buffer_size=num_samples).batch(batch_size)"
   ]
  },
  {
   "cell_type": "code",
   "execution_count": 86,
   "id": "e847fabb-8752-4c3c-8959-35f0a53bd557",
   "metadata": {},
   "outputs": [],
   "source": [
    "# train_size = int(0.8 * len(dataset))\n",
    "# train_ds = dataset.take(train_size)\n",
    "# valid_ds = dataset.skip(train_size)\n",
    "# print(len(train_ds), len(valid_ds))"
   ]
  },
  {
   "cell_type": "code",
   "execution_count": 87,
   "id": "d1e895f7-df29-409d-9a11-1110917b8095",
   "metadata": {},
   "outputs": [],
   "source": [
    "# train_ds = train_ds.batch(batch_size)\n",
    "# valid_ds = valid_ds.batch(batch_size)"
   ]
  },
  {
   "cell_type": "code",
   "execution_count": null,
   "id": "a54c449e-e3c2-4f3d-86ea-0c0f1faa7da8",
   "metadata": {},
   "outputs": [],
   "source": [
    "from tensorflow.keras import layers, models\n",
    "\n",
    "# 創建一個簡單的模型\n",
    "model = models.Sequential([\n",
    "    layers.Dense(64, activation='relu', input_shape=(200,)),\n",
    "    layers.Dense(1)  # 輸出層\n",
    "])\n",
    "\n",
    "# 選擇損失函數和優化器\n",
    "model.compile(optimizer='adam', loss='mean_squared_error')\n",
    "\n",
    "# 定義 batch size\n",
    "batch_size = 32\n",
    "\n",
    "# 訓練模型\n",
    "model.fit(dataset, epochs=10, batch_size=batch_size)"
   ]
  }
 ],
 "metadata": {
  "kernelspec": {
   "display_name": "Python 3 (ipykernel)",
   "language": "python",
   "name": "python3"
  },
  "language_info": {
   "codemirror_mode": {
    "name": "ipython",
    "version": 3
   },
   "file_extension": ".py",
   "mimetype": "text/x-python",
   "name": "python",
   "nbconvert_exporter": "python",
   "pygments_lexer": "ipython3",
   "version": "3.11.0rc1"
  }
 },
 "nbformat": 4,
 "nbformat_minor": 5
}
