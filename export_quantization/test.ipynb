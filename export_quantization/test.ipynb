{
 "cells": [
  {
   "cell_type": "code",
   "execution_count": 1,
   "metadata": {},
   "outputs": [
    {
     "data": {
      "text/plain": [
       "Scritch(\n",
       "  (conv1): Conv1d(3, 6, kernel_size=(5,), stride=(2,), padding=(2,))\n",
       "  (net1): Linear(in_features=150, out_features=30, bias=True)\n",
       "  (net2): Linear(in_features=30, out_features=2, bias=True)\n",
       "  (relu): ReLU()\n",
       "  (dropout): Dropout(p=0.3, inplace=False)\n",
       ")"
      ]
     },
     "execution_count": 1,
     "metadata": {},
     "output_type": "execute_result"
    }
   ],
   "source": [
    "import torch\n",
    "from get_model_and_params import *\n",
    "import numpy as np\n",
    "model = Scritch()\n",
    "model.load_state_dict(torch.load(torch_model_path))\n",
    "model.eval()"
   ]
  },
  {
   "cell_type": "code",
   "execution_count": 5,
   "metadata": {},
   "outputs": [
    {
     "name": "stdout",
     "output_type": "stream",
     "text": [
      "conv1.weight (6, 3, 5)\n",
      "conv1.bias (6,)\n",
      "net1.weight (30, 150)\n",
      "net1.bias (30,)\n",
      "net2.weight (2, 30)\n",
      "net2.bias (2,)\n"
     ]
    }
   ],
   "source": [
    "params = {}\n",
    "for name, param in model.named_parameters():\n",
    "    print(name, param.data.cpu().numpy().shape) \n",
    "    \n",
    "    params[name] = param.data.cpu().numpy()\n",
    "    # if param.requires_grad:\n",
    "    #     params[name] = param.data.cpu().numpy()\n",
    "    #     print(name, param.data.cpu().numpy().shape)"
   ]
  },
  {
   "cell_type": "code",
   "execution_count": null,
   "metadata": {},
   "outputs": [],
   "source": [
    "params['conv1.weight']"
   ]
  }
 ],
 "metadata": {
  "kernelspec": {
   "display_name": "torch",
   "language": "python",
   "name": "python3"
  },
  "language_info": {
   "codemirror_mode": {
    "name": "ipython",
    "version": 3
   },
   "file_extension": ".py",
   "mimetype": "text/x-python",
   "name": "python",
   "nbconvert_exporter": "python",
   "pygments_lexer": "ipython3",
   "version": "3.9.17"
  }
 },
 "nbformat": 4,
 "nbformat_minor": 2
}
